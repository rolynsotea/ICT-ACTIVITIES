{
  "metadata": {
    "kernelspec": {
      "name": "python",
      "display_name": "Python (Pyodide)",
      "language": "python"
    },
    "language_info": {
      "codemirror_mode": {
        "name": "python",
        "version": 3
      },
      "file_extension": ".py",
      "mimetype": "text/x-python",
      "name": "python",
      "nbconvert_exporter": "python",
      "pygments_lexer": "ipython3",
      "version": "3.8"
    }
  },
  "nbformat_minor": 5,
  "nbformat": 4,
  "cells": [
    {
      "id": "927a875d-52c2-46a8-9dea-051ae9de2391",
      "cell_type": "code",
      "source": "print(\"Temperature Converter\")\nprint(\"CELSIUS TO FAHRENHEIT\")\n\ncelsius = 25  # change this value\nfahrenheit = (celsius * 9/5) + 32\nprint(f\"{celsius}°C is equal to {fahrenheit}°F\")\n",
      "metadata": {
        "trusted": true
      },
      "outputs": [
        {
          "name": "stdout",
          "output_type": "stream",
          "text": "Temperature Converter\nCELSIUS TO FAHRENHEIT\n25°C is equal to 77.0°F\n"
        }
      ],
      "execution_count": 3
    },
    {
      "id": "c6705604-4705-49fd-a85c-836dbafe0c05",
      "cell_type": "code",
      "source": "print(\"Temperature Converter\")\nprint (\"FAHRENHEIT TO CELSIUS\")\n\nfahrenheit = 98.6  # Change this value to any Fahrenheit temperature you want\ncelsius = (fahrenheit - 32) * 5/9\n\nprint(f\"{fahrenheit}°F is equal to {celsius:.2f}°C\")\n",
      "metadata": {
        "trusted": true
      },
      "outputs": [
        {
          "name": "stdout",
          "output_type": "stream",
          "text": "Temperature Converter\nFAHRENHEIT TO CELSIUS\n98.6°F is equal to 37.00°C\n"
        }
      ],
      "execution_count": 2
    },
    {
      "id": "fecb290d-4bf0-47ba-8f9c-256aa9542e64",
      "cell_type": "code",
      "source": "print(\"Temperature Converter\")\nprint(\"CELSIUS TO KELVIN\")\n\ncelsius = 18\nkelvin = celsius + 273.15\nprint (f\"{celsius} °C is equal to {kelvin} K\")",
      "metadata": {
        "trusted": true
      },
      "outputs": [
        {
          "name": "stdout",
          "output_type": "stream",
          "text": "Temperature Converter\nCELSIUS TO KELVIN\n18 °C is equal to 291.15 K\n"
        }
      ],
      "execution_count": 6
    },
    {
      "id": "56d84d69-0ea7-4ec9-a13a-807c98a8ca55",
      "cell_type": "code",
      "source": "print(\"Temperature Converter\")\nprint(\"FAHRENHEIT TO KELVIN\")\n\nfahrenheit = 37\nkelvin = (fahrenheit - 32) * 5/9 + 273.15\nprint (f\"{fahrenheit}°F is equal to {kelvin} K\")",
      "metadata": {
        "trusted": true
      },
      "outputs": [
        {
          "name": "stdout",
          "output_type": "stream",
          "text": "Temperature Converter\nFAHRENHEIT TO KELVIN\n37°F is equal to 275.92777777777775 K\n"
        }
      ],
      "execution_count": 7
    },
    {
      "id": "84655539-1401-4e93-8ae3-af7d501996b0",
      "cell_type": "code",
      "source": "print(\"Temperature Converter\")\nprint(\"KELVIN TO CELSIUS AND FAHRENHEIT\")\n\nkelvin = 279\ncelsius = kelvin - 273.15\nfahrenheit = (kelvin - 273.15) * 9/5 + 32\n\nprint (f\"{kelvin} K is equal to {celsius} °C\")\nprint (f\"{kelvin} K is equal to {fahrenheit} °F\")",
      "metadata": {
        "trusted": true
      },
      "outputs": [
        {
          "name": "stdout",
          "output_type": "stream",
          "text": "Temperature Converter\nKELVIN TO CELSIUS AND FAHRENHEIT\n279 K is equal to 5.850000000000023 °C\n279 K is equal to 42.530000000000044 °F\n"
        }
      ],
      "execution_count": 8
    },
    {
      "id": "fbd6fe3f-d915-49ec-8552-b9d5c1648e29",
      "cell_type": "code",
      "source": "",
      "metadata": {
        "trusted": true
      },
      "outputs": [],
      "execution_count": null
    },
    {
      "id": "4f0c3a38-6dfa-4275-84ae-3faa327f9af0",
      "cell_type": "code",
      "source": "",
      "metadata": {
        "trusted": true
      },
      "outputs": [],
      "execution_count": null
    }
  ]
}