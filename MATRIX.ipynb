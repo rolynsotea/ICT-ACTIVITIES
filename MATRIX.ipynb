{
 "cells": [
  {
   "cell_type": "code",
   "execution_count": null,
   "id": "d91dba92-5f57-45aa-9e97-e6fad619f3a4",
   "metadata": {},
   "outputs": [],
   "source": [
    "import numpy as np\n",
    "\n",
    "def letter_to_number(letter):\n",
    "    return ord(letter.lower()) - 96\n",
    "\n",
    "initials = ['r', 'j', 's']  \n",
    "second_letters = ['o', 'a', 'o']\n",
    "student_number_start = [2, 0, 2]  \n",
    "student_number_end = [0, 5, 7]    \n",
    "\n",
    "\n",
    "matrix1 = np.array([\n",
    "    [letter_to_number(ch) for ch in initials],\n",
    "    [letter_to_number(ch) for ch in second_letters]\n",
    "])\n",
    "print(\"1st Matrix (A):\\n\", matrix1)\n",
    "\n",
    "\n",
    "matrix2 = np.array([\n",
    "    student_number_start,\n",
    "    student_number_end\n",
    "])\n",
    "print(\"2nd Matrix (B):\\n\", matrix2)\n",
    "\n",
    "\n",
    "matrix3 = matrix1 + matrix2\n",
    "print(\"3rd Matrix (C = A + B):\\n\", matrix3)\n",
    "\n",
    "\n",
    "matrix4 = matrix1 * 2\n",
    "print(\"4th Matrix (D = A * 2):\\n\", matrix4)\n",
    "\n",
    "\n",
    "matrix5 = matrix2.T\n",
    "print(\"5th Matrix (E = transpose of B):\\n\", matrix5)\n",
    "\n",
    "\n",
    "matrix6 = np.dot(matrix3, matrix5)\n",
    "print(\"6th Matrix (F = C * E):\\n\", matrix6)\n",
    "\n",
    "\n",
    "sum_matrix3 = np.sum(matrix3)\n",
    "print(\"Sum of all elements in Matrix C:\", sum_matrix3)\n",
    "\n",
    "\n",
    "matrix7 = np.zeros((2, 3), dtype=int)\n",
    "print(\"7th Matrix (Zero Matrix):\\n\", matrix7)\n"
   ]
  },
  {
   "cell_type": "code",
   "execution_count": null,
   "id": "759d6627-c620-4e97-8daa-ef123f296650",
   "metadata": {},
   "outputs": [],
   "source": []
  }
 ],
 "metadata": {
  "kernelspec": {
   "display_name": "Python [conda env:base] *",
   "language": "python",
   "name": "conda-base-py"
  },
  "language_info": {
   "codemirror_mode": {
    "name": "ipython",
    "version": 3
   },
   "file_extension": ".py",
   "mimetype": "text/x-python",
   "name": "python",
   "nbconvert_exporter": "python",
   "pygments_lexer": "ipython3",
   "version": "3.12.7"
  }
 },
 "nbformat": 4,
 "nbformat_minor": 5
}
